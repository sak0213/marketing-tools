{
 "cells": [
  {
   "cell_type": "code",
   "execution_count": 1,
   "metadata": {},
   "outputs": [],
   "source": [
    "from config import pg_name, pg_user, pg_host, pg_port\n",
    "from cred import pg_password\n",
    "import psycopg2"
   ]
  },
  {
   "cell_type": "code",
   "execution_count": 2,
   "metadata": {},
   "outputs": [],
   "source": [
    "conn = psycopg2.connect(dbname=pg_name, user =pg_user, host=pg_host, password=pg_password, port =pg_port)\n",
    "cur = conn.cursor()"
   ]
  },
  {
   "cell_type": "markdown",
   "metadata": {},
   "source": [
    "Input Below"
   ]
  },
  {
   "cell_type": "code",
   "execution_count": 3,
   "metadata": {},
   "outputs": [],
   "source": [
    "date = '2024-07-31'"
   ]
  },
  {
   "cell_type": "code",
   "execution_count": 4,
   "metadata": {},
   "outputs": [],
   "source": [
    "parse_sql = \"\"\"\n",
    "call facebook_staging.key_standard();\n",
    "call facebook_staging.fact_daily_standard();\n",
    "call facebook_staging.fact_conversion();\n",
    "\"\"\"\n",
    "cur.execute(parse_sql)\n",
    "conn.commit()"
   ]
  },
  {
   "cell_type": "code",
   "execution_count": 5,
   "metadata": {},
   "outputs": [
    {
     "name": "stdout",
     "output_type": "stream",
     "text": [
      "('Job Processed', 270)\n"
     ]
    }
   ],
   "source": [
    "job_mgr_check = \"\"\"\n",
    "select report_status, count(*) from facebook_staging.job_manager group by 1;\n",
    "\"\"\"\n",
    "cur.execute(job_mgr_check)\n",
    "for i in cur.fetchall():\n",
    "    print(i)"
   ]
  },
  {
   "cell_type": "code",
   "execution_count": 6,
   "metadata": {},
   "outputs": [
    {
     "name": "stdout",
     "output_type": "stream",
     "text": [
      "('parsed', 667)\n"
     ]
    }
   ],
   "source": [
    "parse_mgr_check = \"\"\"\n",
    "select staging_status, count(*) from facebook_staging.query_data group by 1;\n",
    "\"\"\"\n",
    "counter = 0\n",
    "cur.execute(parse_mgr_check)\n",
    "for i in cur.fetchall():\n",
    "    print(i)\n",
    "    counter+= 1"
   ]
  },
  {
   "cell_type": "code",
   "execution_count": 7,
   "metadata": {},
   "outputs": [],
   "source": [
    "update_check_timing_sql = f\"\"\"\n",
    "update facebook.accounts\n",
    "set\n",
    "\tlast_updated_key = '{date} 00:00:00',\n",
    "\tlast_update_fact = '{date} 00:00:00'\n",
    "from (select cast(account_id as bigint) as account_id from facebook_staging.query_data group by 1) as a\n",
    "where facebook.accounts.id = a.account_id;\n",
    "\"\"\"\n",
    "if counter == 1:\n",
    "    cur.execute(update_check_timing_sql)\n",
    "    conn.commit()\n",
    "else:\n",
    "    print(hello)"
   ]
  },
  {
   "cell_type": "code",
   "execution_count": 8,
   "metadata": {},
   "outputs": [],
   "source": [
    "update_prod_tables = \"\"\"\n",
    "call facebook_staging.clear_queues();\n",
    "call facebook_prod.napa_standard();\n",
    "call facebook_prod.jameshardie_standard();\n",
    "call facebook_prod.aflac_standard();\n",
    "call facebook_prod.humana_pharm_standard();\n",
    "\"\"\"\n",
    "cur.execute(update_prod_tables)\n",
    "conn.commit()"
   ]
  }
 ],
 "metadata": {
  "interpreter": {
   "hash": "11938c6bc6919ae2720b4d5011047913343b08a43b18698fd82dedb0d4417594"
  },
  "kernelspec": {
   "display_name": "Python 3.9.7 64-bit",
   "language": "python",
   "name": "python3"
  },
  "language_info": {
   "codemirror_mode": {
    "name": "ipython",
    "version": 3
   },
   "file_extension": ".py",
   "mimetype": "text/x-python",
   "name": "python",
   "nbconvert_exporter": "python",
   "pygments_lexer": "ipython3",
   "version": "3.9.7"
  },
  "orig_nbformat": 4
 },
 "nbformat": 4,
 "nbformat_minor": 2
}
